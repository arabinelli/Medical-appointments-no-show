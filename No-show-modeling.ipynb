{
 "nbformat": 4,
 "nbformat_minor": 2,
 "metadata": {
  "language_info": {
   "name": "python",
   "codemirror_mode": {
    "name": "ipython",
    "version": 3
   },
   "version": "3.7.7-final"
  },
  "orig_nbformat": 2,
  "file_extension": ".py",
  "mimetype": "text/x-python",
  "name": "python",
  "npconvert_exporter": "python",
  "pygments_lexer": "ipython3",
  "version": 3,
  "kernelspec": {
   "name": "python37764bit443586869dc44d85969128a78a0d1782",
   "display_name": "Python 3.7.7 64-bit"
  }
 },
 "cells": [
  {
   "cell_type": "code",
   "execution_count": 3,
   "metadata": {},
   "outputs": [],
   "source": [
    "import pandas as pd\n",
    "import numpy as np \n",
    "import tensorflow as tf \n",
    "import xgboost as xgb\n",
    "\n",
    "from sklearn.model_selection import train_test_split\n",
    ""
   ]
  },
  {
   "cell_type": "code",
   "execution_count": 5,
   "metadata": {},
   "outputs": [
    {
     "output_type": "stream",
     "name": "stdout",
     "text": "The autoreload extension is already loaded. To reload it, use:\n  %reload_ext autoreload\n"
    }
   ],
   "source": [
    "# set some jupyter magic\n",
    "%matplotlib inline\n",
    "%load_ext autoreload\n",
    "%autoreload 2"
   ]
  },
  {
   "cell_type": "code",
   "execution_count": 7,
   "metadata": {},
   "outputs": [
    {
     "output_type": "execute_result",
     "data": {
      "text/plain": "      patientId  appointmentId gender         scheduledDay  \\\n0  2.987250e+13        5642903      F  2016-04-29 18:38:08   \n1  5.589978e+14        5642503      M  2016-04-29 16:08:27   \n2  4.262962e+12        5642549      F  2016-04-29 16:19:04   \n3  8.679512e+11        5642828      F  2016-04-29 17:29:31   \n4  8.841186e+12        5642494      F  2016-04-29 16:07:23   \n\n        appointmentDay  age       neighborhood  scholarship  hypertension  \\\n0  2016-04-29 00:00:00   62    JARDIM DA PENHA        False          True   \n1  2016-04-29 00:00:00   56    JARDIM DA PENHA        False         False   \n2  2016-04-29 00:00:00   62      MATA DA PRAIA        False         False   \n3  2016-04-29 00:00:00    8  PONTAL DE CAMBURI        False         False   \n4  2016-04-29 00:00:00   56    JARDIM DA PENHA        False          True   \n\n   diabetes  ...  appointmentDayDOW__Monday  appointmentDayDOW__Saturday  \\\n0     False  ...                          0                            0   \n1     False  ...                          0                            0   \n2     False  ...                          0                            0   \n3     False  ...                          0                            0   \n4      True  ...                          0                            0   \n\n   appointmentDayDOW__Thursday  appointmentDayDOW__Tuesday  \\\n0                            0                           0   \n1                            0                           0   \n2                            0                           0   \n3                            0                           0   \n4                            0                           0   \n\n   appointmentDayDOW__Wednesday       lat       lon  distanceFromCenter  \\\n0                             0  0.490525 -0.169426           -0.198132   \n1                             0  0.490525 -0.169426           -0.198132   \n2                             0  0.788316 -0.166879           -0.190882   \n3                             0  0.341636 -0.170699           -0.201469   \n4                             0  0.490525 -0.169426           -0.198132   \n\n  distanceFromCenterLat  distanceFromCenterLon  \n0             -0.280227              -0.201355  \n1             -0.280227              -0.201355  \n2              0.089317              -0.199223  \n3             -0.464992              -0.200074  \n4             -0.280227              -0.201355  \n\n[5 rows x 34 columns]",
      "text/html": "<div>\n<style scoped>\n    .dataframe tbody tr th:only-of-type {\n        vertical-align: middle;\n    }\n\n    .dataframe tbody tr th {\n        vertical-align: top;\n    }\n\n    .dataframe thead th {\n        text-align: right;\n    }\n</style>\n<table border=\"1\" class=\"dataframe\">\n  <thead>\n    <tr style=\"text-align: right;\">\n      <th></th>\n      <th>patientId</th>\n      <th>appointmentId</th>\n      <th>gender</th>\n      <th>scheduledDay</th>\n      <th>appointmentDay</th>\n      <th>age</th>\n      <th>neighborhood</th>\n      <th>scholarship</th>\n      <th>hypertension</th>\n      <th>diabetes</th>\n      <th>...</th>\n      <th>appointmentDayDOW__Monday</th>\n      <th>appointmentDayDOW__Saturday</th>\n      <th>appointmentDayDOW__Thursday</th>\n      <th>appointmentDayDOW__Tuesday</th>\n      <th>appointmentDayDOW__Wednesday</th>\n      <th>lat</th>\n      <th>lon</th>\n      <th>distanceFromCenter</th>\n      <th>distanceFromCenterLat</th>\n      <th>distanceFromCenterLon</th>\n    </tr>\n  </thead>\n  <tbody>\n    <tr>\n      <th>0</th>\n      <td>2.987250e+13</td>\n      <td>5642903</td>\n      <td>F</td>\n      <td>2016-04-29 18:38:08</td>\n      <td>2016-04-29 00:00:00</td>\n      <td>62</td>\n      <td>JARDIM DA PENHA</td>\n      <td>False</td>\n      <td>True</td>\n      <td>False</td>\n      <td>...</td>\n      <td>0</td>\n      <td>0</td>\n      <td>0</td>\n      <td>0</td>\n      <td>0</td>\n      <td>0.490525</td>\n      <td>-0.169426</td>\n      <td>-0.198132</td>\n      <td>-0.280227</td>\n      <td>-0.201355</td>\n    </tr>\n    <tr>\n      <th>1</th>\n      <td>5.589978e+14</td>\n      <td>5642503</td>\n      <td>M</td>\n      <td>2016-04-29 16:08:27</td>\n      <td>2016-04-29 00:00:00</td>\n      <td>56</td>\n      <td>JARDIM DA PENHA</td>\n      <td>False</td>\n      <td>False</td>\n      <td>False</td>\n      <td>...</td>\n      <td>0</td>\n      <td>0</td>\n      <td>0</td>\n      <td>0</td>\n      <td>0</td>\n      <td>0.490525</td>\n      <td>-0.169426</td>\n      <td>-0.198132</td>\n      <td>-0.280227</td>\n      <td>-0.201355</td>\n    </tr>\n    <tr>\n      <th>2</th>\n      <td>4.262962e+12</td>\n      <td>5642549</td>\n      <td>F</td>\n      <td>2016-04-29 16:19:04</td>\n      <td>2016-04-29 00:00:00</td>\n      <td>62</td>\n      <td>MATA DA PRAIA</td>\n      <td>False</td>\n      <td>False</td>\n      <td>False</td>\n      <td>...</td>\n      <td>0</td>\n      <td>0</td>\n      <td>0</td>\n      <td>0</td>\n      <td>0</td>\n      <td>0.788316</td>\n      <td>-0.166879</td>\n      <td>-0.190882</td>\n      <td>0.089317</td>\n      <td>-0.199223</td>\n    </tr>\n    <tr>\n      <th>3</th>\n      <td>8.679512e+11</td>\n      <td>5642828</td>\n      <td>F</td>\n      <td>2016-04-29 17:29:31</td>\n      <td>2016-04-29 00:00:00</td>\n      <td>8</td>\n      <td>PONTAL DE CAMBURI</td>\n      <td>False</td>\n      <td>False</td>\n      <td>False</td>\n      <td>...</td>\n      <td>0</td>\n      <td>0</td>\n      <td>0</td>\n      <td>0</td>\n      <td>0</td>\n      <td>0.341636</td>\n      <td>-0.170699</td>\n      <td>-0.201469</td>\n      <td>-0.464992</td>\n      <td>-0.200074</td>\n    </tr>\n    <tr>\n      <th>4</th>\n      <td>8.841186e+12</td>\n      <td>5642494</td>\n      <td>F</td>\n      <td>2016-04-29 16:07:23</td>\n      <td>2016-04-29 00:00:00</td>\n      <td>56</td>\n      <td>JARDIM DA PENHA</td>\n      <td>False</td>\n      <td>True</td>\n      <td>True</td>\n      <td>...</td>\n      <td>0</td>\n      <td>0</td>\n      <td>0</td>\n      <td>0</td>\n      <td>0</td>\n      <td>0.490525</td>\n      <td>-0.169426</td>\n      <td>-0.198132</td>\n      <td>-0.280227</td>\n      <td>-0.201355</td>\n    </tr>\n  </tbody>\n</table>\n<p>5 rows × 34 columns</p>\n</div>"
     },
     "metadata": {},
     "execution_count": 7
    }
   ],
   "source": [
    "no_show_df = pd.read_csv(\"data/no_show_feature_engineered_no_extreme_locations.csv\")\n",
    "no_show_df.head()"
   ]
  },
  {
   "cell_type": "markdown",
   "metadata": {},
   "source": [
    "- Change how gender is encoded\n",
    "- Select features\n",
    "- Define the baseline model\n",
    "- Define xgboost model\n",
    "- Define tensorflow model"
   ]
  },
  {
   "cell_type": "code",
   "execution_count": 9,
   "metadata": {},
   "outputs": [
    {
     "output_type": "stream",
     "name": "stdout",
     "text": "['age', 'scholarship', 'hypertension', 'diabetes', 'alcoholism', 'handicap', 'smsSent', 'daysInAdvance', 'lat', 'lon', 'isFemale', 'distanceFromCenterLat', 'scheduledDayHour', 'appointmentDayDOW__Friday', 'appointmentDayDOW__Monday', 'appointmentDayDOW__Saturday', 'appointmentDayDOW__Thursday', 'appointmentDayDOW__Tuesday', 'appointmentDayDOW__Wednesday']\n"
    }
   ],
   "source": [
    "# encode the gender as a binary\n",
    "# NOTE: the gender didn't seem to affect no show by itself, but we're going to keep it and\n",
    "#       and verify if the model can still use it in conjunction with other variables\n",
    "no_show_df[\"isFemale\"] = (no_show_df[\"gender\"] == \"F\")*1\n",
    "\n",
    "# select the columns that we want to keep\n",
    "FEATURE_COLS = [\"age\",\"scholarship\",\"hypertension\",\"diabetes\",\"alcoholism\",\"handicap\",\"smsSent\",\n",
    "                \"daysInAdvance\",\"lat\",\"lon\",\"isFemale\",\"distanceFromCenterLat\",\"scheduledDayHour\"]\n",
    "days_of_weeks_cols = [col_name for col_name in no_show_df.columns if \"appointmentDayDOW__\" in col_name]\n",
    "FEATURE_COLS += days_of_weeks_cols\n",
    "print(FEATURE_COLS)\n",
    "\n",
    "# target column\n",
    "TARGET_COLUMN = \"noShow\"\n",
    "\n",
    "# prepare dataset for models\n",
    "no_show_df[\"age\"] = (no_show_df[\"age\"]-no_show_df[\"age\"].mean())/no_show_df[\"age\"].std()\n",
    "no_show_df[\"noShow\"] = (no_show_df[\"noShow\"])*1"
   ]
  },
  {
   "cell_type": "code",
   "execution_count": 11,
   "metadata": {},
   "outputs": [
    {
     "output_type": "stream",
     "name": "stdout",
     "text": "Number of samples in the oversampled dataset: 176348\n"
    }
   ],
   "source": [
    "# get training, validation, and test after \n",
    "from imblearn.over_sampling import SMOTE\n",
    "X = no_show_df[FEATURE_COLS].values\n",
    "y = no_show_df[TARGET_COLUMN].values\n",
    "\n",
    "# using SMOTE for generating synthetic samples to help with class imbalance\n",
    "oversample = SMOTE()\n",
    "X, y = oversample.fit_resample(X, y)\n",
    "print(\"Number of samples in the oversampled dataset:\",len(X))\n",
    "# get train = 60%, validation = 20%, test = 20%\n",
    "train_X, test_X, train_y, test_y = train_test_split(X,y,test_size=0.2) # split between train and test\n",
    "train_X, val_X, train_y, val_y = train_test_split(train_X,train_y,train_size=0.75) # split train to get validation"
   ]
  },
  {
   "cell_type": "markdown",
   "metadata": {},
   "source": [
    "## Defining a baseline model\n",
    "\n",
    "As reported in publications studying hospitals no-shows, most clinics currently do not have any way to identify patients that are likely not to show up to appointments (Srinivas, Sharan, and A. Ravi Ravindran, 2018). For this reason, and given the class imbalance of the dataset, we can assume they naively decide on either assuming everyone will show up, or that they won't. \n",
    "\n",
    "From an accuracy perspective, the baseline model assuming that every patient always shows up gives the highest value (as most patients actually show up). In practice, even if hospitals cannot predict if a given patient will show up or not, they are likely to know a percentage of no-shows per day and use it to overbook appointments. "
   ]
  },
  {
   "cell_type": "markdown",
   "metadata": {},
   "source": [
    "## The Wide and Deep model\n",
    "\n"
   ]
  },
  {
   "cell_type": "code",
   "execution_count": 13,
   "metadata": {},
   "outputs": [],
   "source": [
    "from models.deep_and_wide import tuner\n",
    "from tensorflow.keras import callbacks\n",
    "import logging\n",
    "logging.getLogger(\"tensorflow\").setLevel(logging.ERROR)\n",
    "# set callbacks\n",
    "\n",
    "class EndEpochCallback(callbacks.Callback):\n",
    "    def on_epoch_end(self,epoch,logs):\n",
    "        print(\"\\ntrain loss: {:.4f}, val loss: {:.4f}, \".format(logs[\"loss\"],logs[\"val_loss\"]))"
   ]
  },
  {
   "cell_type": "code",
   "execution_count": 1,
   "metadata": {},
   "outputs": [
    {
     "output_type": "error",
     "ename": "NameError",
     "evalue": "name 'tuner' is not defined",
     "traceback": [
      "\u001b[0;31m---------------------------------------------------------------------------\u001b[0m",
      "\u001b[0;31mNameError\u001b[0m                                 Traceback (most recent call last)",
      "\u001b[0;32m<ipython-input-1-9a3677a996c2>\u001b[0m in \u001b[0;36m<module>\u001b[0;34m\u001b[0m\n\u001b[0;32m----> 1\u001b[0;31m \u001b[0mtuner\u001b[0m\u001b[0;34m.\u001b[0m\u001b[0msearch_space_summary\u001b[0m\u001b[0;34m(\u001b[0m\u001b[0;34m)\u001b[0m\u001b[0;34m\u001b[0m\u001b[0;34m\u001b[0m\u001b[0m\n\u001b[0m\u001b[1;32m      2\u001b[0m \u001b[0;31m# search!\u001b[0m\u001b[0;34m\u001b[0m\u001b[0;34m\u001b[0m\u001b[0;34m\u001b[0m\u001b[0m\n\u001b[1;32m      3\u001b[0m tuner.search(train_X, train_y,\n\u001b[1;32m      4\u001b[0m             \u001b[0mepochs\u001b[0m\u001b[0;34m=\u001b[0m \u001b[0;36m5\u001b[0m\u001b[0;34m,\u001b[0m\u001b[0;34m\u001b[0m\u001b[0;34m\u001b[0m\u001b[0m\n\u001b[1;32m      5\u001b[0m              \u001b[0mvalidation_data\u001b[0m\u001b[0;34m=\u001b[0m\u001b[0;34m(\u001b[0m\u001b[0mval_X\u001b[0m\u001b[0;34m,\u001b[0m \u001b[0mval_y\u001b[0m\u001b[0;34m)\u001b[0m\u001b[0;34m,\u001b[0m\u001b[0;34m\u001b[0m\u001b[0;34m\u001b[0m\u001b[0m\n",
      "\u001b[0;31mNameError\u001b[0m: name 'tuner' is not defined"
     ]
    }
   ],
   "source": [
    "# search!\n",
    "tuner.search(train_X, train_y,\n",
    "            epochs= 5,\n",
    "             validation_data=(val_X, val_y),\n",
    "             verbose=2)"
   ]
  },
  {
   "cell_type": "code",
   "execution_count": null,
   "metadata": {},
   "outputs": [],
   "source": []
  }
 ]
}