{
 "nbformat": 4,
 "nbformat_minor": 2,
 "metadata": {
  "language_info": {
   "name": "python",
   "codemirror_mode": {
    "name": "ipython",
    "version": 3
   },
   "version": "3.7.7-final"
  },
  "orig_nbformat": 2,
  "file_extension": ".py",
  "mimetype": "text/x-python",
  "name": "python",
  "npconvert_exporter": "python",
  "pygments_lexer": "ipython3",
  "version": 3,
  "kernelspec": {
   "name": "python37764bit443586869dc44d85969128a78a0d1782",
   "display_name": "Python 3.7.7 64-bit"
  }
 },
 "cells": [
  {
   "cell_type": "code",
   "execution_count": 2,
   "metadata": {},
   "outputs": [],
   "source": [
    "import pandas as pd\n",
    "import numpy as np \n",
    "import tensorflow as tf \n",
    "import xgboost as xgb\n",
    "\n",
    "from sklearn.model_selection import train_test_split\n",
    ""
   ]
  },
  {
   "cell_type": "code",
   "execution_count": 3,
   "metadata": {},
   "outputs": [
    {
     "output_type": "execute_result",
     "data": {
      "text/plain": "      patientId  appointmentId gender         scheduledDay  \\\n0  2.987250e+13        5642903      F  2016-04-29 18:38:08   \n1  5.589978e+14        5642503      M  2016-04-29 16:08:27   \n2  4.262962e+12        5642549      F  2016-04-29 16:19:04   \n3  8.679512e+11        5642828      F  2016-04-29 17:29:31   \n4  8.841186e+12        5642494      F  2016-04-29 16:07:23   \n\n        appointmentDay  age       neighborhood  scholarship  hypertension  \\\n0  2016-04-29 00:00:00   62    JARDIM DA PENHA        False          True   \n1  2016-04-29 00:00:00   56    JARDIM DA PENHA        False         False   \n2  2016-04-29 00:00:00   62      MATA DA PRAIA        False         False   \n3  2016-04-29 00:00:00    8  PONTAL DE CAMBURI        False         False   \n4  2016-04-29 00:00:00   56    JARDIM DA PENHA        False          True   \n\n   diabetes  ...  appointmentDayDOW__Monday  appointmentDayDOW__Saturday  \\\n0     False  ...                          0                            0   \n1     False  ...                          0                            0   \n2     False  ...                          0                            0   \n3     False  ...                          0                            0   \n4      True  ...                          0                            0   \n\n   appointmentDayDOW__Thursday  appointmentDayDOW__Tuesday  \\\n0                            0                           0   \n1                            0                           0   \n2                            0                           0   \n3                            0                           0   \n4                            0                           0   \n\n   appointmentDayDOW__Wednesday       lat       lon  distanceFromCenter  \\\n0                             0  0.490525 -0.169426           -0.198132   \n1                             0  0.490525 -0.169426           -0.198132   \n2                             0  0.788316 -0.166879           -0.190882   \n3                             0  0.341636 -0.170699           -0.201469   \n4                             0  0.490525 -0.169426           -0.198132   \n\n  distanceFromCenterLat  distanceFromCenterLon  \n0             -0.280227              -0.201355  \n1             -0.280227              -0.201355  \n2              0.089317              -0.199223  \n3             -0.464992              -0.200074  \n4             -0.280227              -0.201355  \n\n[5 rows x 34 columns]",
      "text/html": "<div>\n<style scoped>\n    .dataframe tbody tr th:only-of-type {\n        vertical-align: middle;\n    }\n\n    .dataframe tbody tr th {\n        vertical-align: top;\n    }\n\n    .dataframe thead th {\n        text-align: right;\n    }\n</style>\n<table border=\"1\" class=\"dataframe\">\n  <thead>\n    <tr style=\"text-align: right;\">\n      <th></th>\n      <th>patientId</th>\n      <th>appointmentId</th>\n      <th>gender</th>\n      <th>scheduledDay</th>\n      <th>appointmentDay</th>\n      <th>age</th>\n      <th>neighborhood</th>\n      <th>scholarship</th>\n      <th>hypertension</th>\n      <th>diabetes</th>\n      <th>...</th>\n      <th>appointmentDayDOW__Monday</th>\n      <th>appointmentDayDOW__Saturday</th>\n      <th>appointmentDayDOW__Thursday</th>\n      <th>appointmentDayDOW__Tuesday</th>\n      <th>appointmentDayDOW__Wednesday</th>\n      <th>lat</th>\n      <th>lon</th>\n      <th>distanceFromCenter</th>\n      <th>distanceFromCenterLat</th>\n      <th>distanceFromCenterLon</th>\n    </tr>\n  </thead>\n  <tbody>\n    <tr>\n      <th>0</th>\n      <td>2.987250e+13</td>\n      <td>5642903</td>\n      <td>F</td>\n      <td>2016-04-29 18:38:08</td>\n      <td>2016-04-29 00:00:00</td>\n      <td>62</td>\n      <td>JARDIM DA PENHA</td>\n      <td>False</td>\n      <td>True</td>\n      <td>False</td>\n      <td>...</td>\n      <td>0</td>\n      <td>0</td>\n      <td>0</td>\n      <td>0</td>\n      <td>0</td>\n      <td>0.490525</td>\n      <td>-0.169426</td>\n      <td>-0.198132</td>\n      <td>-0.280227</td>\n      <td>-0.201355</td>\n    </tr>\n    <tr>\n      <th>1</th>\n      <td>5.589978e+14</td>\n      <td>5642503</td>\n      <td>M</td>\n      <td>2016-04-29 16:08:27</td>\n      <td>2016-04-29 00:00:00</td>\n      <td>56</td>\n      <td>JARDIM DA PENHA</td>\n      <td>False</td>\n      <td>False</td>\n      <td>False</td>\n      <td>...</td>\n      <td>0</td>\n      <td>0</td>\n      <td>0</td>\n      <td>0</td>\n      <td>0</td>\n      <td>0.490525</td>\n      <td>-0.169426</td>\n      <td>-0.198132</td>\n      <td>-0.280227</td>\n      <td>-0.201355</td>\n    </tr>\n    <tr>\n      <th>2</th>\n      <td>4.262962e+12</td>\n      <td>5642549</td>\n      <td>F</td>\n      <td>2016-04-29 16:19:04</td>\n      <td>2016-04-29 00:00:00</td>\n      <td>62</td>\n      <td>MATA DA PRAIA</td>\n      <td>False</td>\n      <td>False</td>\n      <td>False</td>\n      <td>...</td>\n      <td>0</td>\n      <td>0</td>\n      <td>0</td>\n      <td>0</td>\n      <td>0</td>\n      <td>0.788316</td>\n      <td>-0.166879</td>\n      <td>-0.190882</td>\n      <td>0.089317</td>\n      <td>-0.199223</td>\n    </tr>\n    <tr>\n      <th>3</th>\n      <td>8.679512e+11</td>\n      <td>5642828</td>\n      <td>F</td>\n      <td>2016-04-29 17:29:31</td>\n      <td>2016-04-29 00:00:00</td>\n      <td>8</td>\n      <td>PONTAL DE CAMBURI</td>\n      <td>False</td>\n      <td>False</td>\n      <td>False</td>\n      <td>...</td>\n      <td>0</td>\n      <td>0</td>\n      <td>0</td>\n      <td>0</td>\n      <td>0</td>\n      <td>0.341636</td>\n      <td>-0.170699</td>\n      <td>-0.201469</td>\n      <td>-0.464992</td>\n      <td>-0.200074</td>\n    </tr>\n    <tr>\n      <th>4</th>\n      <td>8.841186e+12</td>\n      <td>5642494</td>\n      <td>F</td>\n      <td>2016-04-29 16:07:23</td>\n      <td>2016-04-29 00:00:00</td>\n      <td>56</td>\n      <td>JARDIM DA PENHA</td>\n      <td>False</td>\n      <td>True</td>\n      <td>True</td>\n      <td>...</td>\n      <td>0</td>\n      <td>0</td>\n      <td>0</td>\n      <td>0</td>\n      <td>0</td>\n      <td>0.490525</td>\n      <td>-0.169426</td>\n      <td>-0.198132</td>\n      <td>-0.280227</td>\n      <td>-0.201355</td>\n    </tr>\n  </tbody>\n</table>\n<p>5 rows × 34 columns</p>\n</div>"
     },
     "metadata": {},
     "execution_count": 3
    }
   ],
   "source": [
    "no_show_df = pd.read_csv(\"data/no_show_feature_engineered_no_extreme_locations.csv\")\n",
    "no_show_df.head()"
   ]
  },
  {
   "cell_type": "markdown",
   "metadata": {},
   "source": [
    "- Change how gender is encoded\n",
    "- Select features\n",
    "- Define the baseline model\n",
    "- Define xgboost model\n",
    "- Define tensorflow model"
   ]
  },
  {
   "cell_type": "code",
   "execution_count": 5,
   "metadata": {},
   "outputs": [
    {
     "output_type": "execute_result",
     "data": {
      "text/plain": "Index(['patientId', 'appointmentId', 'gender', 'scheduledDay',\n       'appointmentDay', 'age', 'neighborhood', 'scholarship', 'hypertension',\n       'diabetes', 'alcoholism', 'handicap', 'smsSent', 'noShow',\n       'appointmentDayMonth', 'appointmentDayDayOfWeek',\n       'appointmentDayMonthProgress', 'scheduledDayMonth',\n       'scheduledDayDayOfWeek', 'scheduledDayMonthProgress',\n       'scheduledDayHour', 'scheduledDayMinute', 'daysInAdvance',\n       'appointmentDayDOW__Friday', 'appointmentDayDOW__Monday',\n       'appointmentDayDOW__Saturday', 'appointmentDayDOW__Thursday',\n       'appointmentDayDOW__Tuesday', 'appointmentDayDOW__Wednesday', 'lat',\n       'lon', 'distanceFromCenter', 'distanceFromCenterLat',\n       'distanceFromCenterLon', 'isFemale'],\n      dtype='object')"
     },
     "metadata": {},
     "execution_count": 5
    }
   ],
   "source": [
    "# encode the gender as a binary\n",
    "# NOTE: the gender didn't seem to affect no show by itself, but we're going to keep it and\n",
    "#       and verify if the model can still use it in conjunction with other variables\n",
    "no_show_df[\"isFemale\"] = (no_show_df[\"gender\"] == \"F\")*1\n",
    "\n",
    "# select the columns that we want to keep\n",
    "FEATURE_COLS = [\"age\",\"scholarship\",\"hypertension\",\"diabetes\",\"alcoholism\",\"handicap\",\"smsSent\",\n",
    "                \"daysInAdvance\",\"lat\",\"lon\",\"isFemale\",\"distanceFromCenterLat\",\"scheduledDayHour\"]\n",
    "days_of_weeks_cols = [col_name for col_name in no_show_df.columns if \"appointmentDayDOW__\" in col_name]\n",
    "days_of_weeks_cols"
   ]
  },
  {
   "cell_type": "code",
   "execution_count": null,
   "metadata": {},
   "outputs": [],
   "source": []
  }
 ]
}